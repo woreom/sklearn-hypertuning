{
 "cells": [
  {
   "cell_type": "markdown",
   "id": "8f46bb4c-579a-4754-8de0-b550346ab63f",
   "metadata": {},
   "source": [
    "# Imports and Methods"
   ]
  },
  {
   "cell_type": "code",
   "execution_count": 1,
   "id": "d6c79a44-b2d6-41e3-860d-3e218fc7067a",
   "metadata": {},
   "outputs": [],
   "source": [
    "# neccessary\n",
    "import os\n",
    "import math\n",
    "import json\n",
    "import shutil\n",
    "import traceback\n",
    "import numpy as np\n",
    "import pandas as pd\n",
    "from tqdm import tqdm\n",
    "from pprint import pprint\n",
    "\n",
    "# preprocess\n",
    "from sklearn import preprocessing\n",
    "from sklearn.model_selection import KFold\n",
    "from sklearn.model_selection import cross_val_score\n",
    "from sklearn.model_selection import train_test_split\n",
    "\n",
    "\n",
    "# metrics\n",
    "import scipy.stats as ss\n",
    "from sklearn import metrics\n",
    "# from sklearn.metrics import make_scorer\n",
    "# from sklearn.metrics import mean_squared_error\n",
    "\n",
    "# ensembles\n",
    "import xgboost\n",
    "from sklearn.tree import ExtraTreeRegressor\n",
    "from sklearn.ensemble import VotingRegressor\n",
    "from sklearn.linear_model import LinearRegression\n",
    "from sklearn.ensemble import RandomForestRegressor\n",
    "from sklearn.ensemble import GradientBoostingRegressor\n",
    "\n",
    "# HyperTuning Strategies\n",
    "from sklearn.model_selection import GridSearchCV\n",
    "from sklearn.model_selection import ParameterGrid\n",
    "from sklearn.model_selection import ParameterSampler\n",
    "from sklearn.model_selection import RandomizedSearchCV\n",
    "### explicitly require this experimental feature\n",
    "from sklearn.experimental import enable_halving_search_cv # noqa\n",
    "from sklearn.model_selection import HalvingGridSearchCV\n",
    "from sklearn.model_selection import HalvingRandomSearchCV\n",
    "\n",
    "# ploting\n",
    "import matplotlib.pylab as plt\n",
    "%matplotlib inline\n",
    "from matplotlib.pylab import rcParams"
   ]
  },
  {
   "cell_type": "code",
   "execution_count": 2,
   "id": "858ab627-abbb-4fb6-b89c-af562f3df344",
   "metadata": {},
   "outputs": [
    {
     "data": {
      "text/plain": [
       "'1.0.2'"
      ]
     },
     "execution_count": 2,
     "metadata": {},
     "output_type": "execute_result"
    }
   ],
   "source": [
    "import sklearn\n",
    "sklearn.__version__"
   ]
  },
  {
   "cell_type": "markdown",
   "id": "8b57eba1-c617-42f2-ab14-39731dfe3f0a",
   "metadata": {},
   "source": [
    "# Set Hyper Parameter Parameters"
   ]
  },
  {
   "cell_type": "markdown",
   "id": "4668a7a9-44fe-42f9-a340-ad4a3f4415f4",
   "metadata": {},
   "source": [
    "## Data preprocess"
   ]
  },
  {
   "cell_type": "code",
   "execution_count": 5,
   "id": "271c8afe-3161-44a7-a1b4-b1dfda57f3c1",
   "metadata": {},
   "outputs": [
    {
     "data": {
      "text/html": [
       "<div>\n",
       "<style scoped>\n",
       "    .dataframe tbody tr th:only-of-type {\n",
       "        vertical-align: middle;\n",
       "    }\n",
       "\n",
       "    .dataframe tbody tr th {\n",
       "        vertical-align: top;\n",
       "    }\n",
       "\n",
       "    .dataframe thead th {\n",
       "        text-align: right;\n",
       "    }\n",
       "</style>\n",
       "<table border=\"1\" class=\"dataframe\">\n",
       "  <thead>\n",
       "    <tr style=\"text-align: right;\">\n",
       "      <th></th>\n",
       "      <th>KO_reporter_assay</th>\n",
       "      <th>DeepCRISPR_score</th>\n",
       "      <th>CRISPRater_score</th>\n",
       "      <th>SSC_Score</th>\n",
       "      <th>sgRNA_Scorer_score</th>\n",
       "      <th>sgRNA_Designer_rsII_score</th>\n",
       "    </tr>\n",
       "  </thead>\n",
       "  <tbody>\n",
       "    <tr>\n",
       "      <th>0</th>\n",
       "      <td>0.000000</td>\n",
       "      <td>0.203982</td>\n",
       "      <td>0.335595</td>\n",
       "      <td>0.305248</td>\n",
       "      <td>0.306651</td>\n",
       "      <td>0.663082</td>\n",
       "    </tr>\n",
       "    <tr>\n",
       "      <th>1</th>\n",
       "      <td>0.000000</td>\n",
       "      <td>0.000000</td>\n",
       "      <td>0.592578</td>\n",
       "      <td>0.383434</td>\n",
       "      <td>0.550406</td>\n",
       "      <td>0.594982</td>\n",
       "    </tr>\n",
       "    <tr>\n",
       "      <th>2</th>\n",
       "      <td>0.000000</td>\n",
       "      <td>0.308528</td>\n",
       "      <td>0.566042</td>\n",
       "      <td>0.318458</td>\n",
       "      <td>0.257799</td>\n",
       "      <td>0.374552</td>\n",
       "    </tr>\n",
       "    <tr>\n",
       "      <th>3</th>\n",
       "      <td>0.000000</td>\n",
       "      <td>0.154977</td>\n",
       "      <td>0.474262</td>\n",
       "      <td>0.461978</td>\n",
       "      <td>0.538870</td>\n",
       "      <td>0.519713</td>\n",
       "    </tr>\n",
       "    <tr>\n",
       "      <th>4</th>\n",
       "      <td>0.000000</td>\n",
       "      <td>0.110096</td>\n",
       "      <td>0.552275</td>\n",
       "      <td>0.502321</td>\n",
       "      <td>0.123884</td>\n",
       "      <td>0.508961</td>\n",
       "    </tr>\n",
       "    <tr>\n",
       "      <th>...</th>\n",
       "      <td>...</td>\n",
       "      <td>...</td>\n",
       "      <td>...</td>\n",
       "      <td>...</td>\n",
       "      <td>...</td>\n",
       "      <td>...</td>\n",
       "    </tr>\n",
       "    <tr>\n",
       "      <th>420</th>\n",
       "      <td>0.979445</td>\n",
       "      <td>0.820591</td>\n",
       "      <td>0.726856</td>\n",
       "      <td>0.792217</td>\n",
       "      <td>0.697362</td>\n",
       "      <td>0.840502</td>\n",
       "    </tr>\n",
       "    <tr>\n",
       "      <th>421</th>\n",
       "      <td>0.981501</td>\n",
       "      <td>0.732982</td>\n",
       "      <td>0.542897</td>\n",
       "      <td>0.423420</td>\n",
       "      <td>0.132310</td>\n",
       "      <td>0.634409</td>\n",
       "    </tr>\n",
       "    <tr>\n",
       "      <th>422</th>\n",
       "      <td>0.981501</td>\n",
       "      <td>0.859182</td>\n",
       "      <td>0.735834</td>\n",
       "      <td>0.743663</td>\n",
       "      <td>0.935299</td>\n",
       "      <td>0.722222</td>\n",
       "    </tr>\n",
       "    <tr>\n",
       "      <th>423</th>\n",
       "      <td>0.989723</td>\n",
       "      <td>0.197521</td>\n",
       "      <td>0.407223</td>\n",
       "      <td>0.469475</td>\n",
       "      <td>0.604574</td>\n",
       "      <td>0.731183</td>\n",
       "    </tr>\n",
       "    <tr>\n",
       "      <th>424</th>\n",
       "      <td>1.000000</td>\n",
       "      <td>0.593019</td>\n",
       "      <td>0.611532</td>\n",
       "      <td>0.764370</td>\n",
       "      <td>0.923663</td>\n",
       "      <td>0.951613</td>\n",
       "    </tr>\n",
       "  </tbody>\n",
       "</table>\n",
       "<p>425 rows × 6 columns</p>\n",
       "</div>"
      ],
      "text/plain": [
       "     KO_reporter_assay  DeepCRISPR_score  CRISPRater_score  SSC_Score  \\\n",
       "0             0.000000          0.203982          0.335595   0.305248   \n",
       "1             0.000000          0.000000          0.592578   0.383434   \n",
       "2             0.000000          0.308528          0.566042   0.318458   \n",
       "3             0.000000          0.154977          0.474262   0.461978   \n",
       "4             0.000000          0.110096          0.552275   0.502321   \n",
       "..                 ...               ...               ...        ...   \n",
       "420           0.979445          0.820591          0.726856   0.792217   \n",
       "421           0.981501          0.732982          0.542897   0.423420   \n",
       "422           0.981501          0.859182          0.735834   0.743663   \n",
       "423           0.989723          0.197521          0.407223   0.469475   \n",
       "424           1.000000          0.593019          0.611532   0.764370   \n",
       "\n",
       "     sgRNA_Scorer_score  sgRNA_Designer_rsII_score  \n",
       "0              0.306651                   0.663082  \n",
       "1              0.550406                   0.594982  \n",
       "2              0.257799                   0.374552  \n",
       "3              0.538870                   0.519713  \n",
       "4              0.123884                   0.508961  \n",
       "..                  ...                        ...  \n",
       "420            0.697362                   0.840502  \n",
       "421            0.132310                   0.634409  \n",
       "422            0.935299                   0.722222  \n",
       "423            0.604574                   0.731183  \n",
       "424            0.923663                   0.951613  \n",
       "\n",
       "[425 rows x 6 columns]"
      ]
     },
     "execution_count": 5,
     "metadata": {},
     "output_type": "execute_result"
    }
   ],
   "source": [
    "df = pd.read_excel(\"../BCB/Crispr/Codes/Python/Data Cleaner/val.xlsx\",engine='openpyxl')\n",
    "data = df[df.columns[1:7]]\n",
    "# data=(data-data.mean())/data.std()\n",
    "data = (data-data.min())/(data.max()-data.min())\n",
    "X = np.array(data[data.columns[1:7]])\n",
    "y = np.array(data[data.columns[0]])\n",
    "\n",
    "data"
   ]
  },
  {
   "cell_type": "markdown",
   "id": "1bca4cc9-b11f-4165-9905-46a653aae393",
   "metadata": {},
   "source": [
    "## Define Parameters"
   ]
  },
  {
   "cell_type": "code",
   "execution_count": 6,
   "id": "a49f18d6-ecc7-4bc1-bcff-54ac4d96ab03",
   "metadata": {},
   "outputs": [],
   "source": [
    "rf = RandomForestRegressor()\n",
    "rfp={'bootstrap': [True, False],\n",
    "     'ccp_alpha': [float(\"{:.2f}\".format(i*0.1)) for i in range(11)],\n",
    "     'criterion': ['squared_error', 'absolute_error', 'poisson'],\n",
    "     'max_depth': list(np.append([None],[i*100 for i in range(2,21,2)])),\n",
    "     'max_features': [None, 'auto', 'sqrt', 'log2'], \n",
    "     'max_leaf_nodes': list(np.append([None], [i for i in range(100,2001,100)])),\n",
    "     'max_samples': list(np.append([None], [i for i in range(100,256,10)])),\n",
    "     'min_impurity_decrease': [float(\"{:.2f}\".format(i*0.1)) for i in range(11)],\n",
    "    #  'min_impurity_split': list(np.append([None], [i for i in range(10)])),\n",
    "     'min_samples_leaf': [i for i in range(1,21)],\n",
    "     'min_samples_split': [i for i in range(2,21)],\n",
    "     'min_weight_fraction_leaf': [float(\"{:.2f}\".format(i*0.1)) for i in range(11)],\n",
    "     'n_estimators': [i for i in range(100,2001,100)],\n",
    "     'n_jobs': [-1],\n",
    "     'bootstrap': [True],\n",
    "     'oob_score': [True, False],\n",
    "     'random_state': [42],\n",
    "     'verbose': [0],\n",
    "     'warm_start': [True, False],\n",
    "    }"
   ]
  },
  {
   "cell_type": "code",
   "execution_count": 24,
   "id": "c87bb91a-3516-4cc0-9325-d855b0d0758f",
   "metadata": {},
   "outputs": [
    {
     "data": {
      "text/plain": [
       "0.30000000000000004"
      ]
     },
     "execution_count": 24,
     "metadata": {},
     "output_type": "execute_result"
    }
   ],
   "source": [
    "0.1000000000000000000001*3"
   ]
  },
  {
   "cell_type": "code",
   "execution_count": 7,
   "id": "7e11f968-7ec5-43e2-95ca-04208e15ed69",
   "metadata": {
    "scrolled": true,
    "tags": []
   },
   "outputs": [],
   "source": [
    "gb = GradientBoostingRegressor()\n",
    "gbp = {'alpha': [float(\"{:.2f}\".format(i*0.1)) for i in range(9,0,-1)],\n",
    "       'ccp_alpha': [float(\"{:.2f}\".format(i*0.1)) for i in range(11)],\n",
    "       'criterion': ['friedman_mse', 'squared_error'],\n",
    "       'init': [None],\n",
    "       'learning_rate': [float(\"{:.2f}\".format(i*0.1)) for i in range(1,11)],\n",
    "       'loss': ['squared_error', 'absolute_error', 'huber', 'quantile'],\n",
    "       'max_depth': list(np.append([None],[i*100 for i in range(2,21,2)])),\n",
    "       'max_features': [None, 'auto', 'sqrt', 'log2'],\n",
    "       'max_leaf_nodes': list(np.append([None], [i for i in range(10,len(X),len(X)//10)])),\n",
    "       'min_impurity_decrease': [float(\"{:.2f}\".format(i*0.1)) for i in range(11)],\n",
    "       'min_samples_leaf': [i for i in range(1,21)],\n",
    "       'min_samples_split': [i for i in range(2,21)],\n",
    "       'min_weight_fraction_leaf': [float(\"{:.2f}\".format(i*0.1)) for i in range(6)],\n",
    "       'n_estimators': [i for i in range(100,2001,100)],\n",
    "       'n_iter_no_change': [None, 1, 3, 5, 7],\n",
    "       'random_state': [42],\n",
    "       'subsample': [float(\"{:.2f}\".format(i*0.1)) for i in range(1,11)],\n",
    "       'tol':[0.0001, 0.001, 0.01, 0.1],\n",
    "       'validation_fraction': [float(\"{:.2f}\".format(i*0.1)) for i in range(1,6)],\n",
    "       'verbose': [0],\n",
    "       'warm_start': [True, False]\n",
    "       }"
   ]
  },
  {
   "cell_type": "code",
   "execution_count": 8,
   "id": "4ccc72c3-e40c-43da-8c9b-771d766b05b8",
   "metadata": {},
   "outputs": [],
   "source": [
    "lr = LinearRegression()\n",
    "lrp = {'copy_X': [True],\n",
    "       'fit_intercept': [False, True],\n",
    "       'n_jobs': [-1],\n",
    "       'positive': [True, False],\n",
    "       }"
   ]
  },
  {
   "cell_type": "code",
   "execution_count": 9,
   "id": "0f2a8362-16cf-464f-af5b-9fcd23063a21",
   "metadata": {},
   "outputs": [],
   "source": [
    "et = ExtraTreeRegressor()\n",
    "etp = {'ccp_alpha': [float(\"{:.2f}\".format(i*0.1)) for i in range(11)],\n",
    "       'criterion': ['friedman_mse', 'squared_error'],\n",
    "       'max_depth': list(np.append([None],[i*100 for i in range(2,21,2)])),\n",
    "       'max_features': [None ,'auto', 'sqrt', 'log2'],\n",
    "       'max_leaf_nodes':  list(np.append([None], [i for i in range(10,len(X),len(X)//10)])),\n",
    "       'min_impurity_decrease': [float(\"{:.2f}\".format(i*0.1)) for i in range(11)],\n",
    "       'min_samples_leaf': [i for i in range(1,21)],\n",
    "       'min_samples_split': [i for i in range(2,21)],\n",
    "       'min_weight_fraction_leaf':  [float(\"{:.2f}\".format(i*0.1)) for i in range(11)],\n",
    "       'random_state': [42],\n",
    "       'splitter':{'random', 'best'}}"
   ]
  },
  {
   "cell_type": "code",
   "execution_count": 10,
   "id": "0ad787c4-f720-4994-95b4-e20936439ed1",
   "metadata": {},
   "outputs": [],
   "source": [
    "xgbr = xgboost.XGBRegressor()\n",
    "xgbrp = {'objective': 'reg:squarederror',\n",
    "        'base_score': None,\n",
    "        'booster': None,\n",
    "        'colsample_bylevel': None,\n",
    "        'colsample_bynode': None,\n",
    "        'colsample_bytree': None,\n",
    "        'enable_categorical': False,\n",
    "        'gamma': None,\n",
    "        'gpu_id': None,\n",
    "        'importance_type': None,\n",
    "        'interaction_constraints': None,\n",
    "        'learning_rate': None,\n",
    "        'max_delta_step': None,\n",
    "        'max_depth': None,\n",
    "        'min_child_weight': None,\n",
    "        'missing': np.nan,\n",
    "        'monotone_constraints': None,\n",
    "        'n_estimators': 100,\n",
    "        'n_jobs': None,\n",
    "        'num_parallel_tree': None,\n",
    "        'predictor': None,\n",
    "        'random_state': None,\n",
    "        'reg_alpha': None,\n",
    "        'reg_lambda': None,\n",
    "        'scale_pos_weight': None,\n",
    "        'subsample': None,\n",
    "        'tree_method': None,\n",
    "        'validate_parameters': None,\n",
    "        'verbosity': None}"
   ]
  },
  {
   "cell_type": "code",
   "execution_count": 11,
   "id": "c0df6efe-35dd-4d2d-a795-526b6c971301",
   "metadata": {},
   "outputs": [],
   "source": [
    "xgbrf = xgboost.XGBRFRegressor()\n",
    "xgbrfp = {'colsample_bynode': 0.8,\n",
    "         'learning_rate': 1.0,\n",
    "         'reg_lambda': 1e-05,\n",
    "         'subsample': 0.8,\n",
    "         'use_label_encoder': True,\n",
    "         'objective': 'binary:logistic',\n",
    "         'base_score': None,\n",
    "         'booster': None,\n",
    "         'colsample_bylevel': None,\n",
    "         'colsample_bytree': None,\n",
    "         'enable_categorical': False,\n",
    "         'gamma': None,\n",
    "         'gpu_id': None,\n",
    "         'importance_type': None,\n",
    "         'interaction_constraints': None,\n",
    "         'max_delta_step': None,\n",
    "         'max_depth': None,\n",
    "         'min_child_weight': None,\n",
    "         'missing': np.nan,\n",
    "         'monotone_constraints': None,\n",
    "         'n_estimators': 100,\n",
    "         'n_jobs': None,\n",
    "         'num_parallel_tree': None,\n",
    "         'predictor': None,\n",
    "         'random_state': None,\n",
    "         'reg_alpha': None,\n",
    "         'scale_pos_weight': None,\n",
    "         'tree_method': None,\n",
    "         'validate_parameters': None,\n",
    "         'verbosity': None}"
   ]
  },
  {
   "cell_type": "code",
   "execution_count": 12,
   "id": "5a7b49ac-e8ed-4ae0-8b64-7b7db97f2e8f",
   "metadata": {},
   "outputs": [],
   "source": [
    "vr = VotingRegressor([])\n",
    "estimators = []\n",
    "vrp = {'estimators': [estimators[:i] for i in range(1,len(estimators)+1)],\n",
    "       'n_jobs': [-1],\n",
    "       'verbose': False,\n",
    "       'weights': None}"
   ]
  },
  {
   "cell_type": "code",
   "execution_count": 15,
   "id": "b14dc73d-c4ee-4b61-91fd-c8a2f336f29d",
   "metadata": {},
   "outputs": [
    {
     "data": {
      "text/plain": [
       "{'alpha': 0.9,\n",
       " 'ccp_alpha': 0.0,\n",
       " 'criterion': 'friedman_mse',\n",
       " 'init': None,\n",
       " 'learning_rate': 0.1,\n",
       " 'loss': 'squared_error',\n",
       " 'max_depth': 3,\n",
       " 'max_features': None,\n",
       " 'max_leaf_nodes': None,\n",
       " 'min_impurity_decrease': 0.0,\n",
       " 'min_samples_leaf': 1,\n",
       " 'min_samples_split': 2,\n",
       " 'min_weight_fraction_leaf': 0.0,\n",
       " 'n_estimators': 100,\n",
       " 'n_iter_no_change': None,\n",
       " 'random_state': None,\n",
       " 'subsample': 1.0,\n",
       " 'tol': 0.0001,\n",
       " 'validation_fraction': 0.1,\n",
       " 'verbose': 0,\n",
       " 'warm_start': False}"
      ]
     },
     "execution_count": 15,
     "metadata": {},
     "output_type": "execute_result"
    }
   ],
   "source": [
    "gb.get_params()"
   ]
  },
  {
   "cell_type": "markdown",
   "id": "340dab22-d4e2-4fde-a78e-6a3903ed1f23",
   "metadata": {},
   "source": [
    "# Write Costum Scorings"
   ]
  },
  {
   "cell_type": "code",
   "execution_count": 12,
   "id": "2c79f910-35ba-41e8-bdff-af91c9eec036",
   "metadata": {},
   "outputs": [],
   "source": [
    "def spearman(estimator, X, y):\n",
    "    corr, _ = ss.spearmanr(y.argsort(), estimator.predict(X).argsort(),axis=1)\n",
    "    return corr\n",
    "\n",
    "def pearson(estimator, X, y):\n",
    "    corr, _ = ss.pearsonr(y, estimator.predict(X))\n",
    "    return corr\n",
    "\n",
    "# def spearman(estimator, X, y):\n",
    "#     corr = np.corrcoef(y.argsort(), estimator.predict(X).argsort())\n",
    "#     return corr[0][1] if corr[0][1]>=0 else 0\n",
    "\n",
    "# def pearson(estimator, X, y):\n",
    "#     corr = np.corrcoef(y, estimator.predict(X))\n",
    "#     return corr[0][1]"
   ]
  },
  {
   "cell_type": "markdown",
   "id": "5e7866eb-511d-4727-8a97-0b7f4142670d",
   "metadata": {},
   "source": [
    "# Finding Best Parameters"
   ]
  },
  {
   "cell_type": "code",
   "execution_count": 13,
   "id": "1fd7ed14-59dd-463e-887b-fb8f669bcbad",
   "metadata": {},
   "outputs": [],
   "source": [
    "SCORINGS = {#'spearman': spearman,\n",
    "           #'pearson' : pearson,\n",
    "           'explained_variance' : 'explained_variance',\n",
    "           'max_error':\"max_error\",\n",
    "           'neg_mean_absolute_error':\"neg_mean_absolute_error\",\n",
    "           'neg_mean_squared_error':\"neg_mean_squared_error\",\n",
    "           'neg_root_mean_squared_error':'neg_root_mean_squared_error',\n",
    "           'neg_mean_squared_log_error':'neg_mean_squared_log_error',\n",
    "           'neg_median_absolute_error':'neg_median_absolute_error',\n",
    "           'r2':'r2',\n",
    "           'neg_mean_poisson_deviance':'neg_mean_poisson_deviance',\n",
    "           'neg_mean_gamma_deviance':'neg_mean_gamma_deviance',\n",
    "           'neg_mean_absolute_percentage_error':'neg_mean_absolute_percentage_error',\n",
    "           }\n",
    "\n",
    "def clear_dir(folder):\n",
    "    for filename in os.listdir(folder):\n",
    "        file_path = os.path.join(folder, filename)\n",
    "        try:\n",
    "            if os.path.isfile(file_path) or os.path.islink(file_path):\n",
    "                os.unlink(file_path)\n",
    "            elif os.path.isdir(file_path):\n",
    "                shutil.rmtree(file_path)\n",
    "        except Exception as e:\n",
    "            print('Failed to delete %s. Reason: %s' % (file_path, e))\n",
    "\n",
    "def save_json(jfile, path):\n",
    "    with open(path, 'w') as fp:\n",
    "        json.dump(jfile, fp)\n",
    "\n",
    "def save_csv(pdfile, path):\n",
    "    df = pd.DataFrame(pdfile)\n",
    "    df.to_csv(path)\n",
    "    \n",
    "def make_folder(path):\n",
    "    try:\n",
    "        os.makedirs(path)\n",
    "    except OSError as e:\n",
    "        clear_dir(path)\n",
    "#         traceback.print_exc()\n",
    "            \n",
    "def after_func(model, X_train, y_train, X_test, y_test, estimator_name, score):\n",
    "    y_pred = model.best_estimator_.predict(X_test)\n",
    "        \n",
    "    print(estimator_name+':'+score, ss.spearmanr(y_test, y_pred, axis=1).correlation)\n",
    "    print(\"State_of_the_Art:\", ss.spearmanr(y_test, X_test[:,0], axis=1).correlation)\n",
    "\n",
    "def RandomizedSearchCV_hypertuning_by_score(X, y, estimator, estimator_params, scorings=SCORINGS, test_size=0.1, random_state=42, n_iter = 100, cv = 10, verbose=1, n_jobs = -1, after_estimation=None):\n",
    "    estimator_name = str(type(estimator)).split('.')[-1].strip(\"'>\")\n",
    "    make_folder(estimator_name)\n",
    "    \n",
    "    X_train, X_test, y_train, y_test = train_test_split(X, y, test_size=test_size,random_state=random_state)\n",
    "    \n",
    "    scoring_names = list(scorings.keys())\n",
    "    \n",
    "    for score in tqdm(scoring_names):\n",
    "    \n",
    "        model = RandomizedSearchCV(estimator = estimator, param_distributions = estimator_params,\n",
    "                                   n_iter = n_iter, cv = cv, verbose=verbose , random_state=random_state,\n",
    "                                   n_jobs = -1, scoring=scorings[score], refit=scorings[score])\n",
    "        \n",
    "        model.fit(X_train, y_train)\n",
    "        save_json(jfile=model.best_params_, path=estimator_name+'//'+score+'.json')\n",
    "        save_csv(pdfile=model.cv_results_, path=estimator_name+'//'+score+'.csv' )\n",
    "        \n",
    "        if after_estimation != None: after_estimation(model, X_train, y_train, X_test, y_test, estimator_name, score)\n",
    "        \n",
    "       \n",
    "    \n",
    "\n",
    "def hypertuning():\n",
    "    pass"
   ]
  },
  {
   "cell_type": "code",
   "execution_count": null,
   "id": "fefcdd84-8677-4595-8057-1b2fb85b9edb",
   "metadata": {
    "scrolled": true,
    "tags": []
   },
   "outputs": [],
   "source": [
    "RandomizedSearchCV_hypertuning_by_score(X=X, y=y, estimator=gbas, estimator_params=gbp,\n",
    "                                        scorings=SCORINGS, test_size=0.1, random_state=None,\n",
    "                                        n_iter = 100, cv = 10, verbose=0, n_jobs = -1, after_estimation=after_func)"
   ]
  },
  {
   "cell_type": "code",
   "execution_count": 17,
   "id": "6cb52f56-2791-4dd1-af63-f775efee544a",
   "metadata": {
    "scrolled": true,
    "tags": []
   },
   "outputs": [
    {
     "ename": "NameError",
     "evalue": "name 'rf' is not defined",
     "output_type": "error",
     "traceback": [
      "\u001b[0;31m---------------------------------------------------------------------------\u001b[0m",
      "\u001b[0;31mNameError\u001b[0m                                 Traceback (most recent call last)",
      "\u001b[0;32m/tmp/ipykernel_31365/145809169.py\u001b[0m in \u001b[0;36m<module>\u001b[0;34m\u001b[0m\n\u001b[1;32m     13\u001b[0m            \u001b[0;34m'neg_mean_absolute_percentage_error'\u001b[0m\u001b[0;34m:\u001b[0m\u001b[0;34m'neg_mean_absolute_percentage_error'\u001b[0m\u001b[0;34m,\u001b[0m\u001b[0;34m\u001b[0m\u001b[0;34m\u001b[0m\u001b[0m\n\u001b[1;32m     14\u001b[0m            }\n\u001b[0;32m---> 15\u001b[0;31m model = RandomizedSearchCV(estimator = rf, param_distributions = rfp, n_iter = 100,cv = 10,verbose=1 , random_state=42,\n\u001b[0m\u001b[1;32m     16\u001b[0m                            \u001b[0mn_jobs\u001b[0m \u001b[0;34m=\u001b[0m \u001b[0;36m10\u001b[0m\u001b[0;34m,\u001b[0m \u001b[0mscoring\u001b[0m\u001b[0;34m=\u001b[0m\u001b[0mlist\u001b[0m\u001b[0;34m(\u001b[0m\u001b[0mscoring\u001b[0m\u001b[0;34m.\u001b[0m\u001b[0mkeys\u001b[0m\u001b[0;34m(\u001b[0m\u001b[0;34m)\u001b[0m\u001b[0;34m)\u001b[0m\u001b[0;34m[\u001b[0m\u001b[0;36m1\u001b[0m\u001b[0;34m]\u001b[0m\u001b[0;34m,\u001b[0m \u001b[0;31m#efit=list(scoring.keys())[0]\u001b[0m\u001b[0;34m\u001b[0m\u001b[0;34m\u001b[0m\u001b[0m\n\u001b[1;32m     17\u001b[0m                           )\n",
      "\u001b[0;31mNameError\u001b[0m: name 'rf' is not defined"
     ]
    }
   ],
   "source": [
    "scoring = {#'spearman': spearman,\n",
    "           #'pearson' : pearson,\n",
    "           'explained_variance' : 'explained_variance',\n",
    "           'max_error':\"max_error\",\n",
    "           'neg_mean_absolute_error':\"neg_mean_absolute_error\",\n",
    "           'neg_mean_squared_error':\"neg_mean_squared_error\",\n",
    "           'neg_root_mean_squared_error':'neg_root_mean_squared_error',\n",
    "           'neg_mean_squared_log_error':'neg_mean_squared_log_error',\n",
    "           'neg_median_absolute_error':'neg_median_absolute_error',\n",
    "           'r2':'r2',\n",
    "           'neg_mean_poisson_deviance':'neg_mean_poisson_deviance',\n",
    "           #'neg_mean_gamma_deviance':'neg_mean_gamma_deviance',\n",
    "           'neg_mean_absolute_percentage_error':'neg_mean_absolute_percentage_error',\n",
    "           }\n",
    "model = RandomizedSearchCV(estimator = rf, param_distributions = rfp, n_iter = 100,cv = 10,verbose=1 , random_state=42,\n",
    "                           n_jobs = 10, scoring=list(scoring.keys())[1], #efit=list(scoring.keys())[0]\n",
    "                          )\n",
    "\n",
    "X_train, X_test, y_train, y_test = train_test_split(X, y, test_size=0.1,random_state=42)\n",
    "\n",
    "# For training, fit() is used\n",
    "model.fit(X_train, y_train )\n",
    "\n",
    "y_pred = model.best_estimator_.predict(X_test)\n",
    "rmse = np.sqrt(mean_squared_error(y_test, y_pred))\n",
    "print(\"RMSE: %f\" % (rmse))\n",
    "print(\"random_forest:\", spearman(model.best_estimator_,X_test, y_test))\n",
    "print(\"State_of_the_Art:\", ss.spearmanr(y_test, X_test[:,0] ,axis=1))"
   ]
  },
  {
   "cell_type": "code",
   "execution_count": 66,
   "id": "e8ff7464-7e96-4c6b-9f95-77e803a21dec",
   "metadata": {},
   "outputs": [
    {
     "data": {
      "text/plain": [
       "'explained_variance'"
      ]
     },
     "execution_count": 66,
     "metadata": {},
     "output_type": "execute_result"
    }
   ],
   "source": [
    "list(scoring.keys())[0]"
   ]
  },
  {
   "cell_type": "markdown",
   "id": "2d6a6e84-edce-43f5-8f46-87d7a03a6102",
   "metadata": {},
   "source": [
    "## Testing Parametes"
   ]
  },
  {
   "cell_type": "code",
   "execution_count": null,
   "id": "86a46186-8af0-4aee-aea6-094b3b67f655",
   "metadata": {},
   "outputs": [],
   "source": [
    "xgb.XGBRegressor(objective ='reg:linear', colsample_bytree = 0.3, learning_rate = 0.5,\n",
    "#             max_depth = 23, alpha = 10, n_estimators = 500)"
   ]
  },
  {
   "cell_type": "code",
   "execution_count": 18,
   "id": "64cd49d5-ab95-49bf-96ab-d14f4f5c33a5",
   "metadata": {},
   "outputs": [
    {
     "name": "stdout",
     "output_type": "stream",
     "text": [
      "[18:41:56] WARNING: ../src/learner.cc:1115: Starting in XGBoost 1.3.0, the default evaluation metric used with the objective 'binary:logistic' was changed from 'error' to 'logloss'. Explicitly set eval_metric if you'd like to restore the old behavior.\n",
      "random_forest: SpearmanrResult(correlation=0.4574563678670267, pvalue=2.059357684728073e-12)\n",
      "State_of_the_Art: SpearmanrResult(correlation=0.48779877501496643, pvalue=3.927695026087398e-14)\n"
     ]
    }
   ],
   "source": [
    "X_train, X_test, y_train, y_test = train_test_split(X, y, test_size=0.5,random_state=None)\n",
    "# read in data\n",
    "dtrain = xgboost.DMatrix(data=X_train, label=y_train)\n",
    "dtest = xgboost.DMatrix( data=X_test, label=y_test)\n",
    "# specify parameters via map\n",
    "param = {'booster':'gbtree','max_depth':2, 'eta':1, 'objective':'binary:logistic' }\n",
    "num_round = 2\n",
    "model = xgboost.train(param, dtrain, num_round)\n",
    "# make prediction\n",
    "print(\"random_forest:\", ss.spearmanr(model.predict(dtest), y_test))\n",
    "print(\"State_of_the_Art:\", ss.spearmanr(y_test, X_test[:,0]))"
   ]
  },
  {
   "cell_type": "code",
   "execution_count": 19,
   "id": "da774b5c-a476-4f20-8338-f8ebad2b7af6",
   "metadata": {},
   "outputs": [
    {
     "name": "stdout",
     "output_type": "stream",
     "text": [
      "random_forest: SpearmanrResult(correlation=0.46288605432882507, pvalue=0.0017747101545552756)\n",
      "State_of_the_Art: SpearmanrResult(correlation=0.42648946734897303, pvalue=0.004346251616008084)\n"
     ]
    }
   ],
   "source": [
    "X_train, X_test, y_train, y_test = train_test_split(X, y, test_size=0.1,random_state=None)\n",
    "model = LinearRegression()\n",
    "model.fit(X_train, y_train )\n",
    "print(\"random_forest:\", ss.spearmanr(model.predict(X_test), y_test, axis=1))\n",
    "print(\"State_of_the_Art:\", ss.spearmanr(y_test, X_test[:,0], axis=1))"
   ]
  },
  {
   "cell_type": "code",
   "execution_count": 20,
   "id": "872f85a5-2cbc-4a7d-84d5-d5ee7b0ad525",
   "metadata": {},
   "outputs": [
    {
     "name": "stdout",
     "output_type": "stream",
     "text": [
      "random_forest: SpearmanrResult(correlation=0.5024704562961543, pvalue=5.008984314604033e-15)\n",
      "State_of_the_Art: SpearmanrResult(correlation=0.5027636831494182, pvalue=4.802138698944565e-15)\n"
     ]
    }
   ],
   "source": [
    "X_train, X_test, y_train, y_test = train_test_split(X, y, test_size=0.5,random_state=None)\n",
    "r1 = GradientBoostingRegressor()\n",
    "r2 = RandomForestRegressor(n_estimators=10, random_state=1)\n",
    "r3 = LinearRegression()\n",
    "r4 = xgboost.XGBRegressor()\n",
    "model = VotingRegressor([\n",
    "    ('lr', r3),\n",
    "#                           ('rf', r2),\n",
    "                          (\"gb\", r1), \n",
    "#                          ('xgb',r4)\n",
    "                        ])\n",
    "model.fit(X_train, y_train )\n",
    "print(\"random_forest:\", ss.spearmanr(model.predict(X_test), y_test))\n",
    "print(\"State_of_the_Art:\", ss.spearmanr(y_test, X_test[:,0] ,axis=1))"
   ]
  },
  {
   "cell_type": "code",
   "execution_count": 21,
   "id": "6987e96e-63e1-4ce4-80f1-b8804a9c24b1",
   "metadata": {},
   "outputs": [
    {
     "name": "stdout",
     "output_type": "stream",
     "text": [
      "random_forest: SpearmanrResult(correlation=0.27591026543211333, pvalue=0.07331040078395479)\n",
      "State_of_the_Art: SpearmanrResult(correlation=0.3222201266659473, pvalue=0.03509662651836398)\n"
     ]
    }
   ],
   "source": [
    "X_train, X_test, y_train, y_test = train_test_split(X, y, test_size=0.1,random_state=None)\n",
    "model = ExtraTreeRegressor()\n",
    "model.fit(X_train, y_train )\n",
    "print(\"random_forest:\", ss.spearmanr(model.predict(X_test), y_test))\n",
    "print(\"State_of_the_Art:\", ss.spearmanr(y_test, X_test[:,0] ,axis=1))"
   ]
  },
  {
   "cell_type": "code",
   "execution_count": 22,
   "id": "4d0837cd-1268-42ee-a3ac-13082effbb38",
   "metadata": {
    "scrolled": true,
    "tags": []
   },
   "outputs": [
    {
     "name": "stdout",
     "output_type": "stream",
     "text": [
      "random_forest: SpearmanrResult(correlation=0.5764772549725432, pvalue=5.2152387162701046e-05)\n",
      "State_of_the_Art: SpearmanrResult(correlation=0.46645271207301536, pvalue=0.0016169113802534522)\n"
     ]
    }
   ],
   "source": [
    "X_train, X_test, y_train, y_test = train_test_split(X, y, test_size=0.1,random_state=None)\n",
    "model = GradientBoostingRegressor()\n",
    "model.fit(X_train, y_train )\n",
    "print(\"random_forest:\", ss.spearmanr(model.predict(X_test), y_test))\n",
    "print(\"State_of_the_Art:\", ss.spearmanr(y_test, X_test[:,0] ,axis=1))"
   ]
  },
  {
   "cell_type": "code",
   "execution_count": 80,
   "id": "a7b86430-c927-44cf-8aa0-fbdbd402afa4",
   "metadata": {
    "scrolled": true,
    "tags": []
   },
   "outputs": [
    {
     "data": {
      "text/plain": [
       "{'warm_start': True,\n",
       " 'verbose': 0,\n",
       " 'random_state': 42,\n",
       " 'oob_score': True,\n",
       " 'n_jobs': 1,\n",
       " 'n_estimators': 100,\n",
       " 'min_weight_fraction_leaf': 0.3,\n",
       " 'min_samples_split': 2,\n",
       " 'min_samples_leaf': 10,\n",
       " 'min_impurity_decrease': 0.2,\n",
       " 'max_samples': 250,\n",
       " 'max_leaf_nodes': 500,\n",
       " 'max_features': 'log2',\n",
       " 'max_depth': 1800,\n",
       " 'criterion': 'poisson',\n",
       " 'ccp_alpha': 0.8,\n",
       " 'bootstrap': True}"
      ]
     },
     "execution_count": 80,
     "metadata": {},
     "output_type": "execute_result"
    }
   ],
   "source": [
    "model.best_params_"
   ]
  },
  {
   "cell_type": "code",
   "execution_count": 6,
   "id": "84549a0c-d3b7-471a-b291-457872b3e23a",
   "metadata": {},
   "outputs": [
    {
     "ename": "NameError",
     "evalue": "name 'GradientBoostingClassifier' is not defined",
     "output_type": "error",
     "traceback": [
      "\u001b[0;31m---------------------------------------------------------------------------\u001b[0m",
      "\u001b[0;31mNameError\u001b[0m                                 Traceback (most recent call last)",
      "\u001b[0;32m/tmp/ipykernel_3759/3108652912.py\u001b[0m in \u001b[0;36m<module>\u001b[0;34m\u001b[0m\n\u001b[1;32m     32\u001b[0m \u001b[0mX_train\u001b[0m\u001b[0;34m,\u001b[0m \u001b[0mX_test\u001b[0m\u001b[0;34m,\u001b[0m \u001b[0my_train\u001b[0m\u001b[0;34m,\u001b[0m \u001b[0my_test\u001b[0m \u001b[0;34m=\u001b[0m \u001b[0mtrain_test_split\u001b[0m\u001b[0;34m(\u001b[0m\u001b[0mX\u001b[0m\u001b[0;34m,\u001b[0m \u001b[0my\u001b[0m\u001b[0;34m,\u001b[0m \u001b[0mtest_size\u001b[0m\u001b[0;34m=\u001b[0m\u001b[0;36m0.1\u001b[0m\u001b[0;34m,\u001b[0m\u001b[0mrandom_state\u001b[0m\u001b[0;34m=\u001b[0m\u001b[0;32mNone\u001b[0m\u001b[0;34m)\u001b[0m\u001b[0;34m\u001b[0m\u001b[0;34m\u001b[0m\u001b[0m\n\u001b[1;32m     33\u001b[0m \u001b[0;34m\u001b[0m\u001b[0m\n\u001b[0;32m---> 34\u001b[0;31m \u001b[0mgbm0\u001b[0m \u001b[0;34m=\u001b[0m \u001b[0mGradientBoostingClassifier\u001b[0m\u001b[0;34m(\u001b[0m\u001b[0mrandom_state\u001b[0m\u001b[0;34m=\u001b[0m\u001b[0;36m10\u001b[0m\u001b[0;34m)\u001b[0m\u001b[0;34m\u001b[0m\u001b[0;34m\u001b[0m\u001b[0m\n\u001b[0m\u001b[1;32m     35\u001b[0m \u001b[0mmodelfit\u001b[0m\u001b[0;34m(\u001b[0m\u001b[0mgbm0\u001b[0m\u001b[0;34m,\u001b[0m \u001b[0mX_train\u001b[0m\u001b[0;34m,\u001b[0m \u001b[0my_train\u001b[0m\u001b[0;34m)\u001b[0m\u001b[0;34m\u001b[0m\u001b[0;34m\u001b[0m\u001b[0m\n",
      "\u001b[0;31mNameError\u001b[0m: name 'GradientBoostingClassifier' is not defined"
     ]
    }
   ],
   "source": [
    "rcParams['figure.figsize'] = 12, 4\n",
    "target = 'Disbursed'\n",
    "IDcol = 'ID'\n",
    "\n",
    "def modelfit(alg, X_train, y_train, performCV=True, printFeatureImportance=True, cv_folds=5):\n",
    "    #Fit the algorithm on the data\n",
    "    alg.fit(X_train, y_train)\n",
    "        \n",
    "    #Predict training set:\n",
    "    dtrain_predictions = alg.predict(X_train)\n",
    "    dtrain_predprob = alg.predict_proba(X_train)[:,1]\n",
    "    \n",
    "    #Perform cross-validation:\n",
    "    if performCV:\n",
    "        cv_score = cross_val_score(alg, X_train, y_train, cv=cv_folds, scoring='roc_auc')\n",
    "    \n",
    "    #Print model report:\n",
    "    print (\"\\nModel Report\")\n",
    "    print (\"Accuracy : %.4g\" % metrics.accuracy_score(y_train, dtrain_predictions))\n",
    "    print (\"AUC Score (Train): %f\" % metrics.roc_auc_score(y_train, dtrain_predprob))\n",
    "    \n",
    "    if performCV:\n",
    "        print (\"CV Score : Mean - %.7g | Std - %.7g | Min - %.7g | Max - %.7g\" % (np.mean(cv_score),np.std(cv_score),np.min(cv_score),np.max(cv_score)))\n",
    "        \n",
    "    #Print Feature Importance:\n",
    "    if printFeatureImportance:\n",
    "        feat_imp = pd.Series(alg.feature_importances_, predictors).sort_values(ascending=False)\n",
    "        feat_imp.plot(kind='bar', title='Feature Importances')\n",
    "        plt.ylabel('Feature Importance Score')\n",
    "\n",
    "#Choose all predictors except target & IDcols\n",
    "X_train, X_test, y_train, y_test = train_test_split(X, y, test_size=0.1,random_state=None)\n",
    "\n",
    "gbm0 = GradientBoostingClassifier(random_state=10)\n",
    "modelfit(gbm0, X_train, y_train)"
   ]
  },
  {
   "cell_type": "markdown",
   "id": "46996aff-ac43-4c09-91cc-31189d7ca8e7",
   "metadata": {},
   "source": [
    "# Train with Parameters"
   ]
  },
  {
   "cell_type": "code",
   "execution_count": null,
   "id": "fbdd3bf5-acc6-4f1f-88e0-ecc6c7f7b8a2",
   "metadata": {},
   "outputs": [],
   "source": []
  },
  {
   "cell_type": "markdown",
   "id": "b9bff764-7cf0-498c-a2fd-66d60019073f",
   "metadata": {},
   "source": [
    "# Test"
   ]
  },
  {
   "cell_type": "code",
   "execution_count": 15,
   "id": "0ec0c83d-4277-47a0-86aa-7acd3caa118b",
   "metadata": {},
   "outputs": [
    {
     "data": {
      "text/plain": [
       "[1.0, 0.9, 0.8, 0.7, 0.6]"
      ]
     },
     "execution_count": 15,
     "metadata": {},
     "output_type": "execute_result"
    }
   ],
   "source": [
    "[float(\"{:.2f}\".format(i*0.1)) for i in range(10,5,-1)]"
   ]
  }
 ],
 "metadata": {
  "kernelspec": {
   "display_name": "hypertune",
   "language": "python",
   "name": "hypertune"
  },
  "language_info": {
   "codemirror_mode": {
    "name": "ipython",
    "version": 3
   },
   "file_extension": ".py",
   "mimetype": "text/x-python",
   "name": "python",
   "nbconvert_exporter": "python",
   "pygments_lexer": "ipython3",
   "version": "3.10.1"
  },
  "widgets": {
   "application/vnd.jupyter.widget-state+json": {
    "state": {},
    "version_major": 2,
    "version_minor": 0
   }
  }
 },
 "nbformat": 4,
 "nbformat_minor": 5
}
